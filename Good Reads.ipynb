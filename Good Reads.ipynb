{
 "cells": [
  {
   "cell_type": "markdown",
   "metadata": {},
   "source": [
    "[The Building Blocks of Interpretability](https://distill.pub/2018/building-blocks/)\n",
    "[Flash Torch](https://pypi.org/project/flashtorch/)\n",
    "[FastAI-LIME](https://github.com/anurags25/FastAI-LIME)\n",
    "[Visualizing the Impact of Feature Attribution Baselines](https://distill.pub/2020/attribution-baselines/)\n",
    "[Feature Visualisations](https://distill.pub/2017/feature-visualization/)\n",
    "[Captum AI Tutorials](https://captum.ai/tutorials/)\n",
    "[Captum AI Algorithms](https://captum.ai/docs/algorithms)"
   ]
  }
 ],
 "metadata": {
  "kernelspec": {
   "display_name": "Python 3",
   "language": "python",
   "name": "python3"
  },
  "language_info": {
   "codemirror_mode": {
    "name": "ipython",
    "version": 3
   },
   "file_extension": ".py",
   "mimetype": "text/x-python",
   "name": "python",
   "nbconvert_exporter": "python",
   "pygments_lexer": "ipython3",
   "version": "3.7.3"
  }
 },
 "nbformat": 4,
 "nbformat_minor": 4
}
